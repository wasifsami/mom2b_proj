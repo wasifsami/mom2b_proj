{
 "cells": [
  {
   "cell_type": "code",
   "execution_count": null,
   "id": "a9e2d021",
   "metadata": {},
   "outputs": [],
   "source": [
    "import pandas as pd\n",
    "import numpy as np\n",
    "import matplotlib.pyplot as plt\n",
    "import pyreadstat\n",
    "from datetime import datetime, timedelta\n",
    "import json\n",
    "import csv\n",
    "import glob"
   ]
  },
  {
   "cell_type": "code",
   "execution_count": null,
   "id": "ebc140d8-8caf-4a69-b7ec-69ec2ed59fdf",
   "metadata": {},
   "outputs": [],
   "source": [
    "# save the latest survey data as a dataframe and a csv file\n",
    "survey_date = '30-Jan-2023'\n",
    "df_survey, meta = pyreadstat.read_sav('/proj/sens2021503/mom2b/Survey_summary/Mom2B downloaded on 30-Jan-2023.sav')\n",
    "df_survey = pd.DataFrame(df_survey)\n",
    "\n",
    "df_survey = df_survey[['patientId', 'BP_date', 'pp6_13_EPDS_R']]\n",
    "df_survey.to_csv('survey.csv', index=False)\n",
    "\n",
    "# Exclude rows with NaN values in 'BP_date' and 'pp6_13_EPDS_R'\n",
    "df_survey = df_survey.dropna(subset=['BP_date', 'pp6_13_EPDS_R'])\n",
    "\n",
    "df_survey.head()\n"
   ]
  },
  {
   "cell_type": "code",
   "execution_count": null,
   "id": "3b963352",
   "metadata": {},
   "outputs": [],
   "source": [
    "df_survey.to_csv('survey.csv', index=False)"
   ]
  },
  {
   "cell_type": "code",
   "execution_count": null,
   "id": "d9666a0c",
   "metadata": {},
   "outputs": [],
   "source": [
    "#collect all accelerometer filenames for the patients in our survey dataframe in one csv\n",
    "df = pd.DataFrame(columns = ['id', 'filename'])\n",
    "for list_id in df_survey['patientId']:\n",
    "    filenames = glob.glob(\"/proj/sens2021503/mom2b/decrypted-data/1njtfXoAe9nkpTD6Q1wvxttT/{}/accel_*.csv\".format(list_id))    \n",
    "    if len(filenames)>0:\n",
    "        for filename in filenames:\n",
    "            d = {'id': [list_id], 'filename': [filename],}\n",
    "            df_temp = pd.DataFrame(data=d)\n",
    "            df = pd.concat([df, df_temp], ignore_index=True)\n",
    "            \n",
    "df.to_csv('final.csv', index=False)\n",
    "print('Done')\n"
   ]
  },
  {
   "cell_type": "code",
   "execution_count": null,
   "id": "a29c60f1",
   "metadata": {},
   "outputs": [],
   "source": [
    "print(df.head())\n",
    "df_survey.head()"
   ]
  },
  {
   "cell_type": "code",
   "execution_count": null,
   "id": "fdbd55e9",
   "metadata": {},
   "outputs": [],
   "source": [
    "#count the number of unique id values\n",
    "unique_participant_ids = df['id'].nunique()\n",
    "\n",
    "print(\"Number of unique participant_ids:\", unique_participant_ids)\n",
    "df.shape"
   ]
  },
  {
   "cell_type": "code",
   "execution_count": null,
   "id": "873d5d8b",
   "metadata": {},
   "outputs": [],
   "source": [
    "# Extract year and month from the filename\n",
    "df['file_month'] = df['filename'].str.extract(r'accel_(\\d{4}-\\d{2})\\.csv')\n",
    "\n",
    "merged_df = pd.merge(df, df_survey, left_on='id', right_on='patientId')\n",
    "\n",
    "# Convert 'file_month' and 'BP_date' to datetime\n",
    "merged_df['file_month'] = pd.to_datetime(merged_df['file_month'])\n",
    "merged_df['BP_date'] = pd.to_datetime(merged_df['BP_date'])\n",
    "\n",
    "# Filter rows where 'file_month' is before 'BP_date'\n",
    "filtered_df = merged_df[merged_df['file_month'].dt.to_period('M') <= merged_df['BP_date'].dt.to_period('M')]\n",
    "\n",
    "# Keep only 'id' and 'filenames' columns\n",
    "df = filtered_df[['id', 'filename']]\n",
    "df.shape"
   ]
  },
  {
   "cell_type": "code",
   "execution_count": null,
   "id": "6666efbe",
   "metadata": {},
   "outputs": [],
   "source": [
    "df.to_csv('final.csv', index=False)"
   ]
  },
  {
   "cell_type": "code",
   "execution_count": null,
   "id": "19c63c60",
   "metadata": {},
   "outputs": [],
   "source": [
    "#count the number of unique id values\n",
    "unique_participant_ids = df['id'].nunique()\n",
    "\n",
    "print(\"Number of unique participant_ids:\", unique_participant_ids)"
   ]
  },
  {
   "cell_type": "code",
   "execution_count": null,
   "id": "a3272956",
   "metadata": {},
   "outputs": [],
   "source": [
    "df_survey = df_survey[df_survey['patientId'].isin(df['id'])]\n",
    "print(df_survey.shape)\n",
    "df_survey.head()"
   ]
  },
  {
   "cell_type": "code",
   "execution_count": null,
   "id": "48a61bc8",
   "metadata": {},
   "outputs": [],
   "source": [
    "# Create a new column 'depression_flag' based on the condition\n",
    "df_survey['depression_flag'] = df_survey['pp6_13_EPDS_R'] >= 12\n",
    "df_survey.to_csv('survey.csv', index=False)\n",
    "\n",
    "df_survey.head()"
   ]
  },
  {
   "cell_type": "code",
   "execution_count": null,
   "id": "6edce647",
   "metadata": {},
   "outputs": [],
   "source": [
    "labels = ['No Depression', 'Depression']\n",
    "sizes = df_survey['depression_flag'].value_counts()\n",
    "total_count = len(df_survey)\n",
    "\n",
    "plt.pie(sizes, labels=labels, autopct=lambda p: '{:.1f}%\\n({:.0f})'.format(p, p * total_count / 100),\n",
    "        startangle=90, colors=['lightcoral', 'lightblue'])\n",
    "plt.title('Distribution of Depression Flags')\n",
    "plt.axis('equal')  # Equal aspect ratio ensures that pie is drawn as a circle.\n",
    "plt.show()"
   ]
  }
 ],
 "metadata": {
  "kernelspec": {
   "display_name": "Python 3",
   "language": "python",
   "name": "python3"
  },
  "language_info": {
   "codemirror_mode": {
    "name": "ipython",
    "version": 3
   },
   "file_extension": ".py",
   "mimetype": "text/x-python",
   "name": "python",
   "nbconvert_exporter": "python",
   "pygments_lexer": "ipython3",
   "version": "3.6.15"
  }
 },
 "nbformat": 4,
 "nbformat_minor": 5
}
