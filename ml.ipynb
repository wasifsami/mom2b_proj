{
 "cells": [
  {
   "cell_type": "code",
   "execution_count": null,
   "id": "a7eb5616",
   "metadata": {},
   "outputs": [],
   "source": [
    "import pandas as pd\n",
    "import numpy as np\n",
    "import matplotlib.pyplot as plt\n",
    "from datetime import datetime, timedelta\n",
    "import csv"
   ]
  },
  {
   "cell_type": "code",
   "execution_count": null,
   "id": "6cd69004",
   "metadata": {},
   "outputs": [],
   "source": [
    "from sklearn.model_selection import train_test_split, cross_val_score, GroupKFold, TimeSeriesSplit\n",
    "from sklearn.preprocessing import StandardScaler\n",
    "from sklearn.metrics import make_scorer, accuracy_score, classification_report, confusion_matrix\n",
    "from sklearn.ensemble import RandomForestClassifier, GradientBoostingClassifier\n",
    "from sklearn.utils import resample\n",
    "from sklearn.model_selection import GridSearchCV\n",
    "from sklearn.metrics import precision_recall_curve, average_precision_score\n",
    "from sklearn.metrics import roc_curve, roc_auc_score"
   ]
  },
  {
   "cell_type": "code",
   "execution_count": null,
   "id": "2fe92e6a",
   "metadata": {},
   "outputs": [],
   "source": [
    "survey_df = pd.read_csv('survey.csv')"
   ]
  },
  {
   "cell_type": "code",
   "execution_count": null,
   "id": "3a0f7b00",
   "metadata": {},
   "outputs": [],
   "source": [
    "survey_df.head()"
   ]
  },
  {
   "cell_type": "code",
   "execution_count": null,
   "id": "22d42e24",
   "metadata": {},
   "outputs": [],
   "source": [
    "mean_magnitude_per_week_sleeping = pd.read_csv('mean_magnitude_per_week.csv')\n",
    "mean_magnitude_per_week = pd.read_csv('mean_magnitude_per_week.csv')"
   ]
  },
  {
   "cell_type": "code",
   "execution_count": null,
   "id": "e42e7a55",
   "metadata": {},
   "outputs": [],
   "source": [
    "print(mean_magnitude_per_week.head())\n",
    "mean_magnitude_per_week_sleeping.head()"
   ]
  },
  {
   "cell_type": "code",
   "execution_count": null,
   "id": "efed99a8",
   "metadata": {},
   "outputs": [],
   "source": [
    "unique_participant_count = mean_magnitude_per_week['id'].nunique()\n",
    "print(\"Count of unique participant_id:\", unique_participant_count)"
   ]
  },
  {
   "cell_type": "code",
   "execution_count": null,
   "id": "729fc8c6",
   "metadata": {},
   "outputs": [],
   "source": [
    "unique_participant_count = mean_magnitude_per_week_sleeping['id'].nunique()\n",
    "print(\"Count of unique participant_id:\", unique_participant_count)"
   ]
  },
  {
   "cell_type": "markdown",
   "id": "35aaabae",
   "metadata": {},
   "source": [
    "## Machine learning"
   ]
  },
  {
   "cell_type": "code",
   "execution_count": null,
   "id": "507c7c5f",
   "metadata": {},
   "outputs": [],
   "source": [
    "merged_df = pd.merge(mean_magnitude_per_week, mean_magnitude_per_week_sleeping, on=['id', 'week'], how='left')\n",
    "merged_df['magnitude0-7'] = merged_df['magnitude_y']\n",
    "\n",
    "merged_df = merged_df.drop(['magnitude_y'], axis=1)\n",
    "merged_df = merged_df.rename(columns={'magnitude_x': 'magnitude'})\n",
    "\n",
    "# Fill NaN values with the mean\n",
    "merged_df['magnitude0-7'] = merged_df['magnitude0-7'].fillna(merged_df.groupby('id')['magnitude'].transform('mean'))\n",
    "\n",
    "print(merged_df.head())\n",
    "print(merged_df.shape)"
   ]
  },
  {
   "cell_type": "code",
   "execution_count": null,
   "id": "f679afd8",
   "metadata": {},
   "outputs": [],
   "source": [
    "final_df = pd.merge(survey_df, merged_df, left_on=['patientId'], right_on=['id'], how='inner')\n",
    "\n",
    "final_df = final_df.drop(['BP_date', 'pp6_13_EPDS_R', 'week', 'patientId'], axis=1)\n",
    "\n",
    "final_df.shape"
   ]
  },
  {
   "cell_type": "code",
   "execution_count": null,
   "id": "96286353",
   "metadata": {},
   "outputs": [],
   "source": [
    "X = final_df.drop(['depression_flag'], axis=1)\n",
    "y = final_df['depression_flag']\n",
    "\n",
    "# Split the data into training and testing sets based on 'id'\n",
    "unique_ids = X['id'].unique()\n",
    "train_ids, test_ids = train_test_split(unique_ids, test_size=0.2, random_state=42)\n",
    "\n",
    "X_train = X[X['id'].isin(train_ids)]\n",
    "y_train = y[X['id'].isin(train_ids)]\n",
    "\n",
    "X_test = X[X['id'].isin(test_ids)]\n",
    "y_test = y[X['id'].isin(test_ids)]\n",
    "\n",
    "# Initialize GroupKFold based on 'id' for outer cross-validation\n",
    "group_kfold_outer = GroupKFold(n_splits=5)\n",
    "# Extract the 'id' column from X_train for grouping\n",
    "groups_outer = X_train['id']\n",
    "\n",
    "# Initialize different classifiers\n",
    "rf_clf = RandomForestClassifier(random_state=42)\n",
    "gb_clf = GradientBoostingClassifier(random_state=42)"
   ]
  },
  {
   "cell_type": "markdown",
   "id": "1a2cc2c8",
   "metadata": {},
   "source": [
    "### Random forest"
   ]
  },
  {
   "cell_type": "code",
   "execution_count": null,
   "id": "8f056261",
   "metadata": {},
   "outputs": [],
   "source": [
    "# Initialize the parameter grid for Random Forest\n",
    "param_grid_rf = {\n",
    "    'n_estimators': [50, 100, 200],\n",
    "    'max_depth': [None, 10, 20],\n",
    "    'min_samples_split': [2, 5, 10],\n",
    "    'min_samples_leaf': [1, 2, 4]\n",
    "}\n",
    "\n",
    "# Initialize TimeSeriesSplit for inner cross-validation\n",
    "tscv_inner = TimeSeriesSplit(n_splits=5)\n",
    "\n",
    "# Initialize GridSearchCV for Random Forest with nested cross-validation\n",
    "grid_search_rf = GridSearchCV(rf_clf, param_grid_rf, cv=tscv_inner.split(X_train[['magnitude', 'magnitude0-7']], y_train, groups=groups_outer), scoring='accuracy')\n",
    "\n",
    "# Fit the grid search to the data for Random Forest with nested cross-validation\n",
    "grid_search_rf.fit(X_train[['magnitude', 'magnitude0-7']], y_train)\n",
    "\n",
    "# Get the best parameters from the grid search results\n",
    "best_rf_params = grid_search_rf.best_params_\n",
    "\n",
    "# Initialize the Random Forest classifier with the best parameters and balanced class_weight\n",
    "final_rf_clf = RandomForestClassifier(random_state=42, **best_rf_params)\n",
    "\n",
    "# Train the final model\n",
    "final_rf_clf.fit(X_train[['magnitude', 'magnitude0-7']], y_train)\n",
    "\n",
    "# Evaluate the final model on the test set\n",
    "X_test = X[X['id'].isin(test_ids)]\n",
    "y_test = y[X['id'].isin(test_ids)]\n",
    "\n",
    "y_pred_test = final_rf_clf.predict(X_test[['magnitude', 'magnitude0-7']])\n",
    "\n",
    "# Print accuracy and classification report on the test set\n",
    "print(\"Final Random Forest Model - Test Accuracy: \", accuracy_score(y_test, y_pred_test))\n",
    "print(\"Final Random Forest Model - Test Classification Report:\")\n",
    "print(classification_report(y_test, y_pred_test))"
   ]
  },
  {
   "cell_type": "code",
   "execution_count": null,
   "id": "111224b0",
   "metadata": {},
   "outputs": [],
   "source": [
    "# Calculate confusion matrix\n",
    "cm = confusion_matrix(y_test, y_pred_test)\n",
    "\n",
    "# Plot confusion matrix\n",
    "plt.imshow(cm, interpolation='nearest', cmap=plt.cm.Blues)\n",
    "plt.title('Confusion Matrix - Random Forest')\n",
    "plt.colorbar()\n",
    "\n",
    "classes = ['Negative', 'Positive']\n",
    "tick_marks = range(len(classes))\n",
    "plt.xticks(tick_marks, classes, rotation=45)\n",
    "plt.yticks(tick_marks, classes)\n",
    "\n",
    "plt.xlabel('Predicted')\n",
    "plt.ylabel('Actual')\n",
    "\n",
    "for i in range(len(classes)):\n",
    "    for j in range(len(classes)):\n",
    "        plt.text(j, i, str(cm[i, j]), ha='center', va='center', color='white' if cm[i, j] > cm.max() / 2 else 'black')\n",
    "\n",
    "plt.show()"
   ]
  },
  {
   "cell_type": "code",
   "execution_count": null,
   "id": "2ed5dc63",
   "metadata": {},
   "outputs": [],
   "source": [
    "from sklearn.metrics import roc_curve, roc_auc_score\n",
    "\n",
    "# Get predicted probabilities for the positive class\n",
    "y_pred_proba = final_rf_clf.predict_proba(X_test[['magnitude', 'magnitude0-7']])[:, 1]\n",
    "\n",
    "# Calculate ROC curve\n",
    "fpr, tpr, _ = roc_curve(y_test, y_pred_proba)\n",
    "\n",
    "# Plot ROC curve\n",
    "plt.figure(figsize=(8, 6))\n",
    "plt.plot(fpr, tpr, color='darkorange', lw=2, label='ROC curve')\n",
    "plt.plot([0, 1], [0, 1], color='navy', lw=2, linestyle='--', label='Random')\n",
    "plt.xlabel('False Positive Rate (FPR)')\n",
    "plt.ylabel('True Positive Rate (TPR)')\n",
    "plt.title('Receiver Operating Characteristic (ROC) Curve - Random Forest')\n",
    "plt.legend()\n",
    "plt.show()"
   ]
  },
  {
   "cell_type": "code",
   "execution_count": null,
   "id": "ae716f7d",
   "metadata": {},
   "outputs": [],
   "source": [
    "# Calculate precision-recall curve\n",
    "precision, recall, _ = precision_recall_curve(y_test, y_pred_proba)\n",
    "\n",
    "# Plot precision-recall curve\n",
    "plt.figure(figsize=(8, 6))\n",
    "plt.step(recall, precision, color='b', alpha=0.2, where='post')\n",
    "plt.fill_between(recall, precision, step='post', alpha=0.2, color='b')\n",
    "plt.xlabel('Recall')\n",
    "plt.ylabel('Precision')\n",
    "plt.title('Precision-Recall Curve - Random Forest')\n",
    "plt.ylim([0.0, 1.05])\n",
    "plt.xlim([0.0, 1.0])\n",
    "plt.show()"
   ]
  },
  {
   "cell_type": "markdown",
   "id": "793fc37e",
   "metadata": {},
   "source": [
    "### Gradient Boosting"
   ]
  },
  {
   "cell_type": "code",
   "execution_count": null,
   "id": "96ad4885",
   "metadata": {},
   "outputs": [],
   "source": [
    "# Initialize the parameter grid for Gradient Boosting\n",
    "param_grid_gb = {\n",
    "    'n_estimators': [50, 100, 200],\n",
    "    'learning_rate': [0.01, 0.1, 0.2],\n",
    "    'max_depth': [3, 5, 7]\n",
    "}\n",
    "\n",
    "# Initialize TimeSeriesSplit for inner cross-validation\n",
    "tscv_inner = TimeSeriesSplit(n_splits=5)\n",
    "\n",
    "# Initialize GridSearchCV for Gradient Boosting with nested cross-validation\n",
    "grid_search_gb = GridSearchCV(gb_clf, param_grid_gb, cv=tscv_inner.split(X_train[['magnitude', 'magnitude0-7']], y_train, groups=groups_outer), scoring='accuracy')\n",
    "\n",
    "# Fit the grid search to the data for Gradient Boosting with nested cross-validation\n",
    "grid_search_gb.fit(X_train[['magnitude', 'magnitude0-7']], y_train)\n",
    "\n",
    "# Get the best parameters from the grid search results\n",
    "best_gb_params = grid_search_gb.best_params_\n",
    "\n",
    "# Initialize the Gradient Boosting classifier with the best parameters\n",
    "final_gb_clf = GradientBoostingClassifier(random_state=42, **best_gb_params)\n",
    "\n",
    "# Train the final model\n",
    "final_gb_clf.fit(X_train[['magnitude', 'magnitude0-7']], y_train)\n",
    "\n",
    "# Evaluate the final model on the test set\n",
    "y_pred_test_gb = final_gb_clf.predict(X_test[['magnitude', 'magnitude0-7']])\n",
    "\n",
    "# Print accuracy and classification report on the test set for Gradient Boosting\n",
    "print(\"Final Gradient Boosting Model - Test Accuracy: \", accuracy_score(y_test, y_pred_test_gb))\n",
    "print(\"Final Gradient Boosting Model - Test Classification Report:\")\n",
    "print(classification_report(y_test, y_pred_test_gb))"
   ]
  },
  {
   "cell_type": "code",
   "execution_count": null,
   "id": "4bbcac52",
   "metadata": {},
   "outputs": [],
   "source": [
    "# Calculate confusion matrix\n",
    "cm_gb = confusion_matrix(y_test, y_pred_test_gb)\n",
    "\n",
    "# Plot confusion matrix\n",
    "plt.imshow(cm_gb, interpolation='nearest', cmap=plt.cm.Blues)\n",
    "plt.title('Confusion Matrix - Gradient Boosting')\n",
    "plt.colorbar()\n",
    "\n",
    "classes_gb = ['Negative', 'Positive']\n",
    "tick_marks_gb = range(len(classes_gb))\n",
    "plt.xticks(tick_marks_gb, classes_gb, rotation=45)\n",
    "plt.yticks(tick_marks_gb, classes_gb)\n",
    "\n",
    "plt.xlabel('Predicted')\n",
    "plt.ylabel('Actual')\n",
    "\n",
    "for i in range(len(classes_gb)):\n",
    "    for j in range(len(classes_gb)):\n",
    "        plt.text(j, i, str(cm_gb[i, j]), ha='center', va='center', color='white' if cm_gb[i, j] > cm_gb.max() / 2 else 'black')\n",
    "\n",
    "plt.show()"
   ]
  },
  {
   "cell_type": "code",
   "execution_count": null,
   "id": "9f387d38",
   "metadata": {},
   "outputs": [],
   "source": [
    "\n",
    "# Get predicted probabilities for the positive class\n",
    "y_pred_proba_gb = final_gb_clf.predict_proba(X_test[['magnitude', 'magnitude0-7']])[:, 1]\n",
    "\n",
    "# Calculate ROC curve\n",
    "fpr_gb, tpr_gb, _ = roc_curve(y_test, y_pred_proba_gb)\n",
    "\n",
    "# Plot ROC curve\n",
    "plt.figure(figsize=(8, 6))\n",
    "plt.plot(fpr_gb, tpr_gb, color='darkorange', lw=2, label='ROC curve')\n",
    "plt.plot([0, 1], [0, 1], color='navy', lw=2, linestyle='--', label='Random')\n",
    "plt.xlabel('False Positive Rate (FPR)')\n",
    "plt.ylabel('True Positive Rate (TPR)')\n",
    "plt.title('Receiver Operating Characteristic (ROC) Curve - Gradient Boosting')\n",
    "plt.legend()\n",
    "plt.show()"
   ]
  },
  {
   "cell_type": "code",
   "execution_count": null,
   "id": "ff65d45f",
   "metadata": {},
   "outputs": [],
   "source": [
    "# Calculate precision-recall curve\n",
    "precision_gb, recall_gb, _ = precision_recall_curve(y_test, y_pred_proba_gb)\n",
    "\n",
    "# Plot precision-recall curve\n",
    "plt.figure(figsize=(8, 6))\n",
    "plt.step(recall_gb, precision_gb, color='b', alpha=0.2, where='post')\n",
    "plt.fill_between(recall_gb, precision_gb, step='post', alpha=0.2, color='b')\n",
    "plt.xlabel('Recall')\n",
    "plt.ylabel('Precision')\n",
    "plt.title('Precision-Recall Curve - Gradient Boosting')\n",
    "plt.ylim([0.0, 1.05])\n",
    "plt.xlim([0.0, 1.0])\n",
    "plt.show()"
   ]
  },
  {
   "cell_type": "code",
   "execution_count": null,
   "id": "994b36bf",
   "metadata": {},
   "outputs": [],
   "source": []
  }
 ],
 "metadata": {
  "kernelspec": {
   "display_name": "Python 3",
   "language": "python",
   "name": "python3"
  },
  "language_info": {
   "codemirror_mode": {
    "name": "ipython",
    "version": 3
   },
   "file_extension": ".py",
   "mimetype": "text/x-python",
   "name": "python",
   "nbconvert_exporter": "python",
   "pygments_lexer": "ipython3",
   "version": "3.6.15"
  }
 },
 "nbformat": 4,
 "nbformat_minor": 5
}
